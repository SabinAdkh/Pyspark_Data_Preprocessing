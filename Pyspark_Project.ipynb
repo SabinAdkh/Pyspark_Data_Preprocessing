{
 "cells": [
  {
   "cell_type": "code",
   "execution_count": 1,
   "id": "3e7b1437-0d3d-4197-ad52-b6169d5f5475",
   "metadata": {},
   "outputs": [],
   "source": [
    "import numpy as np\n",
    "import pandas as pd\n",
    "\n",
    "import pyspark\n",
    "from pyspark.sql import SparkSession\n",
    "from pyspark.conf import SparkConf\n",
    "from pyspark.context import SparkContext\n",
    "\n",
    "from pyspark.sql.types import DateType, IntegerType\n",
    "from pyspark.sql import functions as F "
   ]
  },
  {
   "cell_type": "code",
   "execution_count": 2,
   "id": "0bb46fcf-44cf-458d-aed2-db55c6418cbd",
   "metadata": {},
   "outputs": [],
   "source": [
    "## Starting the master cluser\n",
    "# !./spark-3.5.1-bin-hadoop3/sbin/start-master.sh"
   ]
  },
  {
   "cell_type": "code",
   "execution_count": 3,
   "id": "bc825685-b367-4452-86b7-f417da191e19",
   "metadata": {},
   "outputs": [
    {
     "name": "stderr",
     "output_type": "stream",
     "text": [
      "24/03/13 19:22:35 WARN Utils: Your hostname, Sabins-MacBook-Air.local resolves to a loopback address: 127.0.0.1; using 192.168.40.24 instead (on interface en0)\n",
      "24/03/13 19:22:35 WARN Utils: Set SPARK_LOCAL_IP if you need to bind to another address\n",
      "Setting default log level to \"WARN\".\n",
      "To adjust logging level use sc.setLogLevel(newLevel). For SparkR, use setLogLevel(newLevel).\n",
      "24/03/13 19:22:35 WARN NativeCodeLoader: Unable to load native-hadoop library for your platform... using builtin-java classes where applicable\n"
     ]
    }
   ],
   "source": [
    "## Creating a local sparksessin\n",
    "spark = SparkSession.builder \\\n",
    "        .master(\"spark://Sabins-MacBook-Air.local:7077\") \\\n",
    "        .appName(\"project\") \\\n",
    "        .getOrCreate()"
   ]
  },
  {
   "cell_type": "code",
   "execution_count": 4,
   "id": "15646aaa-b6a9-4a0d-9b10-e9b9c24b4409",
   "metadata": {},
   "outputs": [
    {
     "data": {
      "text/html": [
       "\n",
       "            <div>\n",
       "                <p><b>SparkSession - in-memory</b></p>\n",
       "                \n",
       "        <div>\n",
       "            <p><b>SparkContext</b></p>\n",
       "\n",
       "            <p><a href=\"http://192.168.40.24:4040\">Spark UI</a></p>\n",
       "\n",
       "            <dl>\n",
       "              <dt>Version</dt>\n",
       "                <dd><code>v3.5.1</code></dd>\n",
       "              <dt>Master</dt>\n",
       "                <dd><code>spark://Sabins-MacBook-Air.local:7077</code></dd>\n",
       "              <dt>AppName</dt>\n",
       "                <dd><code>project</code></dd>\n",
       "            </dl>\n",
       "        </div>\n",
       "        \n",
       "            </div>\n",
       "        "
      ],
      "text/plain": [
       "<pyspark.sql.session.SparkSession at 0x13b483250>"
      ]
     },
     "execution_count": 4,
     "metadata": {},
     "output_type": "execute_result"
    }
   ],
   "source": [
    "spark"
   ]
  },
  {
   "cell_type": "code",
   "execution_count": 5,
   "id": "3b068fe1-6589-4768-8f75-a98181236cca",
   "metadata": {},
   "outputs": [],
   "source": [
    "## Now let's start the spark worker cluster\n",
    "# !./spark-3.5.1-bin-hadoop3/sbin/start-worker.sh spark://Sabins-MacBook-Air.local:7077"
   ]
  },
  {
   "cell_type": "markdown",
   "id": "ac8425d6-e939-4720-b041-4449d347cf59",
   "metadata": {},
   "source": [
    "### Reading the Dataset"
   ]
  },
  {
   "cell_type": "code",
   "execution_count": 6,
   "id": "a9b7add7-2af0-4ce6-a5cf-bf94b1399c97",
   "metadata": {},
   "outputs": [
    {
     "name": "stderr",
     "output_type": "stream",
     "text": [
      "                                                                                \r"
     ]
    },
    {
     "name": "stdout",
     "output_type": "stream",
     "text": [
      "+--------------+------------+----------+--------------+--------------+------------+----------------+-------------------+--------------------+--------------------+--------------------+--------------------+---------+---------+-------------+------------+\n",
      "|     client_id|invoice_date|tarif_type|counter_number|counter_statue|counter_code|reading_remarque|counter_coefficient|consommation_level_1|consommation_level_2|consommation_level_3|consommation_level_4|old_index|new_index|months_number|counter_type|\n",
      "+--------------+------------+----------+--------------+--------------+------------+----------------+-------------------+--------------------+--------------------+--------------------+--------------------+---------+---------+-------------+------------+\n",
      "|train_Client_0|  2014-03-24|        11|       1335667|             0|         203|               8|                  1|                  82|                   0|                   0|                   0|    14302|    14384|            4|        ELEC|\n",
      "|train_Client_0|  2013-03-29|        11|       1335667|             0|         203|               6|                  1|                1200|                 184|                   0|                   0|    12294|    13678|            4|        ELEC|\n",
      "+--------------+------------+----------+--------------+--------------+------------+----------------+-------------------+--------------------+--------------------+--------------------+--------------------+---------+---------+-------------+------------+\n",
      "only showing top 2 rows\n",
      "\n"
     ]
    }
   ],
   "source": [
    "file_path = \"invoice_train.csv\"\n",
    "\n",
    "invoice = spark.read.csv(file_path, header=True)\n",
    "invoice.show(2)"
   ]
  },
  {
   "cell_type": "code",
   "execution_count": 7,
   "id": "cea0f7a7-2033-4a71-8734-2218a8172c29",
   "metadata": {},
   "outputs": [
    {
     "name": "stderr",
     "output_type": "stream",
     "text": [
      "                                                                                \r"
     ]
    },
    {
     "data": {
      "text/plain": [
       "4476749"
      ]
     },
     "execution_count": 7,
     "metadata": {},
     "output_type": "execute_result"
    }
   ],
   "source": [
    "# Total number of entries\n",
    "invoice.count()"
   ]
  },
  {
   "cell_type": "code",
   "execution_count": 8,
   "id": "7b7bf38b-fd8f-418b-babc-8fcdb0c8b428",
   "metadata": {},
   "outputs": [
    {
     "data": {
      "text/plain": [
       "pyspark.sql.dataframe.DataFrame"
      ]
     },
     "execution_count": 8,
     "metadata": {},
     "output_type": "execute_result"
    }
   ],
   "source": [
    "# Checking the type of the dataframe\n",
    "type(invoice)"
   ]
  },
  {
   "cell_type": "code",
   "execution_count": 9,
   "id": "eefb0f74-a227-4946-bda9-3bba5ae238b6",
   "metadata": {},
   "outputs": [
    {
     "name": "stdout",
     "output_type": "stream",
     "text": [
      "[]\n"
     ]
    }
   ],
   "source": [
    "# lets check the spark database\n",
    "print(spark.catalog.listTables())"
   ]
  },
  {
   "cell_type": "code",
   "execution_count": 10,
   "id": "0b49d590-e7ec-4c84-8864-2fa23c6884bf",
   "metadata": {},
   "outputs": [
    {
     "name": "stdout",
     "output_type": "stream",
     "text": [
      "root\n",
      " |-- client_id: string (nullable = true)\n",
      " |-- invoice_date: string (nullable = true)\n",
      " |-- tarif_type: string (nullable = true)\n",
      " |-- counter_number: string (nullable = true)\n",
      " |-- counter_statue: string (nullable = true)\n",
      " |-- counter_code: string (nullable = true)\n",
      " |-- reading_remarque: string (nullable = true)\n",
      " |-- counter_coefficient: string (nullable = true)\n",
      " |-- consommation_level_1: string (nullable = true)\n",
      " |-- consommation_level_2: string (nullable = true)\n",
      " |-- consommation_level_3: string (nullable = true)\n",
      " |-- consommation_level_4: string (nullable = true)\n",
      " |-- old_index: string (nullable = true)\n",
      " |-- new_index: string (nullable = true)\n",
      " |-- months_number: string (nullable = true)\n",
      " |-- counter_type: string (nullable = true)\n",
      "\n"
     ]
    }
   ],
   "source": [
    "invoice.printSchema()"
   ]
  },
  {
   "cell_type": "code",
   "execution_count": 11,
   "id": "85dfb176-f97f-4db0-8619-de94cadb9c08",
   "metadata": {},
   "outputs": [
    {
     "data": {
      "text/plain": [
       "['client_id',\n",
       " 'invoice_date',\n",
       " 'tarif_type',\n",
       " 'counter_number',\n",
       " 'counter_statue',\n",
       " 'counter_code',\n",
       " 'reading_remarque',\n",
       " 'counter_coefficient',\n",
       " 'consommation_level_1',\n",
       " 'consommation_level_2',\n",
       " 'consommation_level_3',\n",
       " 'consommation_level_4',\n",
       " 'old_index',\n",
       " 'new_index',\n",
       " 'months_number',\n",
       " 'counter_type']"
      ]
     },
     "execution_count": 11,
     "metadata": {},
     "output_type": "execute_result"
    }
   ],
   "source": [
    "## We can see that all the feilds are of StringType(). We should change the datatype.\n",
    "## 'client_id' and 'counter_type' have alphanumeric value so theie datatype is correct\n",
    "## We should change the datatype of other columns\n",
    "invoice.columns"
   ]
  },
  {
   "cell_type": "code",
   "execution_count": 12,
   "id": "d13e2335-7bc8-4f26-b25f-8b9421f79732",
   "metadata": {},
   "outputs": [],
   "source": [
    "# Changing the datatype of column\n",
    "invoice = invoice \\\n",
    ".withColumn('invoice_date', F.to_date(invoice.invoice_date)) \\\n",
    ".withColumn('tarif_type', invoice['tarif_type'].cast(IntegerType())) \\\n",
    ".withColumn('counter_number', invoice['counter_number'].cast(IntegerType())) \\\n",
    ".withColumn('counter_statue', invoice['counter_statue'].cast(IntegerType())) \\\n",
    ".withColumn('counter_code', invoice['counter_code'].cast(IntegerType())) \\\n",
    ".withColumn('reading_remarque', invoice['reading_remarque'].cast(IntegerType())) \\\n",
    ".withColumn('counter_coefficient', invoice['counter_coefficient'].cast(IntegerType())) \\\n",
    ".withColumn('consommation_level_1', invoice['consommation_level_1'].cast(IntegerType())) \\\n",
    ".withColumn('consommation_level_2', invoice['consommation_level_2'].cast(IntegerType())) \\\n",
    ".withColumn('consommation_level_3', invoice['consommation_level_3'].cast(IntegerType())) \\\n",
    ".withColumn('consommation_level_4', invoice['consommation_level_4'].cast(IntegerType())) \\\n",
    ".withColumn('old_index', invoice['old_index'].cast(IntegerType())) \\\n",
    ".withColumn('new_index', invoice['new_index'].cast(IntegerType())) \\\n",
    ".withColumn('months_number', invoice['months_number'].cast(IntegerType())) "
   ]
  },
  {
   "cell_type": "code",
   "execution_count": 13,
   "id": "3f132c80-0ac3-464a-925d-e8427fb45361",
   "metadata": {},
   "outputs": [
    {
     "name": "stdout",
     "output_type": "stream",
     "text": [
      "root\n",
      " |-- client_id: string (nullable = true)\n",
      " |-- invoice_date: date (nullable = true)\n",
      " |-- tarif_type: integer (nullable = true)\n",
      " |-- counter_number: integer (nullable = true)\n",
      " |-- counter_statue: integer (nullable = true)\n",
      " |-- counter_code: integer (nullable = true)\n",
      " |-- reading_remarque: integer (nullable = true)\n",
      " |-- counter_coefficient: integer (nullable = true)\n",
      " |-- consommation_level_1: integer (nullable = true)\n",
      " |-- consommation_level_2: integer (nullable = true)\n",
      " |-- consommation_level_3: integer (nullable = true)\n",
      " |-- consommation_level_4: integer (nullable = true)\n",
      " |-- old_index: integer (nullable = true)\n",
      " |-- new_index: integer (nullable = true)\n",
      " |-- months_number: integer (nullable = true)\n",
      " |-- counter_type: string (nullable = true)\n",
      "\n"
     ]
    }
   ],
   "source": [
    "invoice.printSchema()"
   ]
  },
  {
   "cell_type": "code",
   "execution_count": 14,
   "id": "c92b47fb-d9d7-4ec8-b9bc-984d9a267051",
   "metadata": {},
   "outputs": [
    {
     "data": {
      "text/plain": [
       "DataFrame[client_id: string, invoice_date: date, tarif_type: int, counter_number: int, counter_statue: int, counter_code: int, reading_remarque: int, counter_coefficient: int, consommation_level_1: int, consommation_level_2: int, consommation_level_3: int, consommation_level_4: int, old_index: int, new_index: int, months_number: int, counter_type: string]"
      ]
     },
     "execution_count": 14,
     "metadata": {},
     "output_type": "execute_result"
    }
   ],
   "source": [
    "invoice.filter(invoice.invoice_date.isNotNull())"
   ]
  },
  {
   "cell_type": "code",
   "execution_count": 15,
   "id": "832465cf-4297-4ad1-b058-fdc962a35b31",
   "metadata": {},
   "outputs": [
    {
     "name": "stderr",
     "output_type": "stream",
     "text": [
      "24/03/13 19:22:55 WARN SparkStringUtils: Truncated the string representation of a plan since it was too large. This behavior can be adjusted by setting 'spark.sql.debug.maxToStringFields'.\n",
      "[Stage 7:>                                                          (0 + 1) / 1]\r"
     ]
    },
    {
     "name": "stdout",
     "output_type": "stream",
     "text": [
      "+-------+------------------+------------------+------------------+-------------------+------------------+------------------+-------------------+--------------------+--------------------+--------------------+--------------------+------------------+------------------+------------------+------------+\n",
      "|summary|         client_id|        tarif_type|    counter_number|     counter_statue|      counter_code|  reading_remarque|counter_coefficient|consommation_level_1|consommation_level_2|consommation_level_3|consommation_level_4|         old_index|         new_index|     months_number|counter_type|\n",
      "+-------+------------------+------------------+------------------+-------------------+------------------+------------------+-------------------+--------------------+--------------------+--------------------+--------------------+------------------+------------------+------------------+------------+\n",
      "|  count|           4476749|           4476749|           4414270|            4476736|           4476749|           4476749|            4476749|             4476749|             4476749|             4476749|             4476749|           4476749|           4476749|           4476749|     4476749|\n",
      "|   mean|              NULL|20.128039342835617|1963548.4414831898|0.10531199516790805| 172.4884301085453| 7.321701752767466| 1.0030401525750048|   410.9794953882829|  109.32247642206431|   20.30620389930282|   52.92588125892249|17766.998257440835|18349.704624717626| 44.83094651944972|        NULL|\n",
      "| stddev|              NULL|13.472556245629164| 7948453.946701434| 127.32195455619508|133.88709958548895|1.5716539688347468| 0.3083466190833516|   757.3079982181748|  1220.1233354762137|  157.42393805492273|   875.4724773681214|40366.925611117935| 40953.20625230448|3128.3353851308652|        NULL|\n",
      "|    min|    train_Client_0|                 8|                 0|                  0|                 0|                 5|                  0|                   0|                   0|                   0|                   0|                 0|                 0|                 0|        ELEC|\n",
      "|    max|train_Client_99999|                45|        1605315891|             269375|               600|               413|                 50|              999910|              999073|               64492|              547946|           2800280|           2870972|            636624|         GAZ|\n",
      "+-------+------------------+------------------+------------------+-------------------+------------------+------------------+-------------------+--------------------+--------------------+--------------------+--------------------+------------------+------------------+------------------+------------+\n",
      "\n"
     ]
    },
    {
     "name": "stderr",
     "output_type": "stream",
     "text": [
      "                                                                                \r"
     ]
    }
   ],
   "source": [
    "invoice.describe().show()"
   ]
  },
  {
   "cell_type": "markdown",
   "id": "7b0b5757-7613-4a61-8d6d-8dc7453bee28",
   "metadata": {},
   "source": [
    "### Handling Null values"
   ]
  },
  {
   "cell_type": "code",
   "execution_count": 16,
   "id": "3b15d0f1-ac84-4e85-9aae-3cf0b936defb",
   "metadata": {},
   "outputs": [
    {
     "name": "stderr",
     "output_type": "stream",
     "text": [
      "                                                                                \r"
     ]
    },
    {
     "data": {
      "text/plain": [
       "4414257"
      ]
     },
     "execution_count": 16,
     "metadata": {},
     "output_type": "execute_result"
    }
   ],
   "source": [
    "invoice = invoice.na.drop()\n",
    "invoice.count()"
   ]
  },
  {
   "cell_type": "markdown",
   "id": "1bfed557-47e5-4f6c-ad43-063fa1c14129",
   "metadata": {},
   "source": [
    "## Drop Duplicates"
   ]
  },
  {
   "cell_type": "code",
   "execution_count": 17,
   "id": "ed154e42-4343-4e11-9bfd-b6066dad1b2f",
   "metadata": {},
   "outputs": [
    {
     "name": "stderr",
     "output_type": "stream",
     "text": [
      "                                                                                \r"
     ]
    },
    {
     "data": {
      "text/plain": [
       "4414246"
      ]
     },
     "execution_count": 17,
     "metadata": {},
     "output_type": "execute_result"
    }
   ],
   "source": [
    "invoice = invoice.dropDuplicates()\n",
    "invoice.count()"
   ]
  },
  {
   "cell_type": "markdown",
   "id": "8429d52e-8516-4a0f-98d7-158f2b301615",
   "metadata": {},
   "source": [
    "### Features Extraction and Joining"
   ]
  },
  {
   "cell_type": "code",
   "execution_count": 18,
   "id": "d4c34168-c383-44ec-be66-8e7a286d2577",
   "metadata": {},
   "outputs": [
    {
     "data": {
      "text/plain": [
       "['client_id',\n",
       " 'invoice_date',\n",
       " 'tarif_type',\n",
       " 'counter_number',\n",
       " 'counter_statue',\n",
       " 'counter_code',\n",
       " 'reading_remarque',\n",
       " 'counter_coefficient',\n",
       " 'consommation_level_1',\n",
       " 'consommation_level_2',\n",
       " 'consommation_level_3',\n",
       " 'consommation_level_4',\n",
       " 'old_index',\n",
       " 'new_index',\n",
       " 'months_number',\n",
       " 'counter_type',\n",
       " 'year']"
      ]
     },
     "execution_count": 18,
     "metadata": {},
     "output_type": "execute_result"
    }
   ],
   "source": [
    "# Extracting year form data column\n",
    "invoice = invoice.withColumn(\"year\", F.year(invoice['invoice_date']))\n",
    "invoice.columns"
   ]
  },
  {
   "cell_type": "code",
   "execution_count": 19,
   "id": "1cba47fd-5ca2-4d39-9529-b15e5b041806",
   "metadata": {},
   "outputs": [
    {
     "name": "stderr",
     "output_type": "stream",
     "text": [
      "[Stage 19:>                                                         (0 + 1) / 1]\r"
     ]
    },
    {
     "name": "stdout",
     "output_type": "stream",
     "text": [
      "+-------------------+------------+----------+--------------+--------------+------------+----------------+-------------------+--------------------+--------------------+--------------------+--------------------+---------+---------+-------------+------------+----+\n",
      "|          client_id|invoice_date|tarif_type|counter_number|counter_statue|counter_code|reading_remarque|counter_coefficient|consommation_level_1|consommation_level_2|consommation_level_3|consommation_level_4|old_index|new_index|months_number|counter_type|year|\n",
      "+-------------------+------------+----------+--------------+--------------+------------+----------------+-------------------+--------------------+--------------------+--------------------+--------------------+---------+---------+-------------+------------+----+\n",
      "|   train_Client_100|  2009-10-22|        11|          2078|             0|         413|               6|                  1|                   0|                   0|                   0|                   0|       98|       98|            4|        ELEC|2009|\n",
      "| train_Client_10000|  2010-05-17|        11|       1214514|             0|         203|               8|                  1|                   1|                   0|                   0|                   0|    15577|    15578|            4|        ELEC|2010|\n",
      "|train_Client_100001|  2008-12-15|        40|        126093|             0|           5|               6|                  1|                  98|                   0|                   0|                   0|      533|      631|            4|         GAZ|2008|\n",
      "|train_Client_100013|  2017-04-01|        40|       6737144|             0|           5|               6|                  1|                 157|                   0|                   0|                   0|     2892|     3049|            4|         GAZ|2017|\n",
      "+-------------------+------------+----------+--------------+--------------+------------+----------------+-------------------+--------------------+--------------------+--------------------+--------------------+---------+---------+-------------+------------+----+\n",
      "only showing top 4 rows\n",
      "\n"
     ]
    },
    {
     "name": "stderr",
     "output_type": "stream",
     "text": [
      "                                                                                \r"
     ]
    }
   ],
   "source": [
    "invoice.show(4)"
   ]
  },
  {
   "cell_type": "code",
   "execution_count": 38,
   "id": "80214558-4680-4772-8bcb-23f3ded28e40",
   "metadata": {},
   "outputs": [],
   "source": [
    "# Calculating total transaction count for each client it\n",
    "df_transaction_count = invoice\\\n",
    "                        .groupby(['client_id']).count() \\\n",
    "                        .withColumnRenamed('count', 'transaction_count')"
   ]
  },
  {
   "cell_type": "code",
   "execution_count": 39,
   "id": "e28d25e3-b6d5-4aef-a69e-727d7c7ec019",
   "metadata": {},
   "outputs": [
    {
     "name": "stderr",
     "output_type": "stream",
     "text": [
      "[Stage 54:======================================>                   (6 + 3) / 9]\r"
     ]
    },
    {
     "name": "stdout",
     "output_type": "stream",
     "text": [
      "+-------------------+-----------------+\n",
      "|          client_id|transaction_count|\n",
      "+-------------------+-----------------+\n",
      "| train_Client_10487|               58|\n",
      "|train_Client_102227|               16|\n",
      "|train_Client_107034|               78|\n",
      "|train_Client_106285|               69|\n",
      "|train_Client_113290|               78|\n",
      "+-------------------+-----------------+\n",
      "only showing top 5 rows\n",
      "\n"
     ]
    },
    {
     "name": "stderr",
     "output_type": "stream",
     "text": [
      "                                                                                \r"
     ]
    }
   ],
   "source": [
    "df_transaction_count.show(5)"
   ]
  },
  {
   "cell_type": "code",
   "execution_count": 51,
   "id": "e66623fe-d5b6-478a-b2e6-7897067187d1",
   "metadata": {},
   "outputs": [],
   "source": [
    "# Joining\n",
    "invoice = invoice \\\n",
    "            .join(df_transaction_count, \"client_id\", how=\"inner\") "
   ]
  },
  {
   "cell_type": "code",
   "execution_count": 52,
   "id": "2c45fdf9-3288-4402-a145-692d17df46ee",
   "metadata": {},
   "outputs": [
    {
     "name": "stderr",
     "output_type": "stream",
     "text": [
      "[Stage 116:>                                                        (0 + 1) / 1]\r"
     ]
    },
    {
     "name": "stdout",
     "output_type": "stream",
     "text": [
      "+-------------------+------------+----------+--------------+--------------+------------+----------------+-------------------+--------------------+--------------------+--------------------+--------------------+---------+---------+-------------+------------+----+-----------------+\n",
      "|          client_id|invoice_date|tarif_type|counter_number|counter_statue|counter_code|reading_remarque|counter_coefficient|consommation_level_1|consommation_level_2|consommation_level_3|consommation_level_4|old_index|new_index|months_number|counter_type|year|transaction_count|\n",
      "+-------------------+------------+----------+--------------+--------------+------------+----------------+-------------------+--------------------+--------------------+--------------------+--------------------+---------+---------+-------------+------------+----+-----------------+\n",
      "|train_Client_100001|  2008-12-15|        40|        126093|             0|           5|               6|                  1|                  98|                   0|                   0|                   0|      533|      631|            4|         GAZ|2008|               78|\n",
      "|train_Client_100001|  2015-04-15|        40|        126093|             0|           5|               6|                  1|                 198|                   0|                   0|                   0|     3104|     3302|            4|         GAZ|2015|               78|\n",
      "|train_Client_100001|  2017-12-13|        40|        126093|             0|           5|               8|                  1|                  94|                   0|                   0|                   0|     4072|     4166|            4|         GAZ|2017|               78|\n",
      "|train_Client_100001|  2007-04-26|        40|        126093|             0|           5|               6|                  1|                   0|                   0|                   0|                   0|      163|      163|            4|         GAZ|2007|               78|\n",
      "|train_Client_100001|  2008-08-14|        40|        126093|             0|           5|               6|                  1|                  75|                   0|                   0|                   0|      458|      533|            4|         GAZ|2008|               78|\n",
      "+-------------------+------------+----------+--------------+--------------+------------+----------------+-------------------+--------------------+--------------------+--------------------+--------------------+---------+---------+-------------+------------+----+-----------------+\n",
      "only showing top 5 rows\n",
      "\n"
     ]
    },
    {
     "name": "stderr",
     "output_type": "stream",
     "text": [
      "                                                                                \r"
     ]
    }
   ],
   "source": [
    "invoice.show(5)"
   ]
  },
  {
   "cell_type": "markdown",
   "id": "41593b9a-ed64-41b4-9ce3-c5efdf8a6ddf",
   "metadata": {},
   "source": [
    "### Data partitioning"
   ]
  },
  {
   "cell_type": "code",
   "execution_count": 53,
   "id": "5b2d76e0-d742-45a1-aeee-c1e88bf44318",
   "metadata": {},
   "outputs": [],
   "source": [
    "# Let's repartition the dataset so that all the clusters can be utilized\n",
    "data = invoice.repartition(10)"
   ]
  },
  {
   "cell_type": "code",
   "execution_count": 54,
   "id": "753e44a9-0392-4b2c-ac6e-ea6e41b7c9ca",
   "metadata": {},
   "outputs": [
    {
     "name": "stderr",
     "output_type": "stream",
     "text": [
      "                                                                                \r"
     ]
    }
   ],
   "source": [
    "# Let's save the dataset\n",
    "data.write.csv(\"cleaned_data/invoice_partitioned\", header=True)"
   ]
  },
  {
   "cell_type": "code",
   "execution_count": 55,
   "id": "5e67f5ca-6fac-4535-804d-b2f95d73e03c",
   "metadata": {},
   "outputs": [
    {
     "name": "stdout",
     "output_type": "stream",
     "text": [
      "_SUCCESS\n",
      "part-00000-d1fc307b-5b15-42fc-9897-0e4fd670e189-c000.csv\n",
      "part-00001-d1fc307b-5b15-42fc-9897-0e4fd670e189-c000.csv\n",
      "part-00002-d1fc307b-5b15-42fc-9897-0e4fd670e189-c000.csv\n",
      "part-00003-d1fc307b-5b15-42fc-9897-0e4fd670e189-c000.csv\n",
      "part-00004-d1fc307b-5b15-42fc-9897-0e4fd670e189-c000.csv\n",
      "part-00005-d1fc307b-5b15-42fc-9897-0e4fd670e189-c000.csv\n",
      "part-00006-d1fc307b-5b15-42fc-9897-0e4fd670e189-c000.csv\n",
      "part-00007-d1fc307b-5b15-42fc-9897-0e4fd670e189-c000.csv\n",
      "part-00008-d1fc307b-5b15-42fc-9897-0e4fd670e189-c000.csv\n",
      "part-00009-d1fc307b-5b15-42fc-9897-0e4fd670e189-c000.csv\n"
     ]
    }
   ],
   "source": [
    "# let's check the output\n",
    "!ls ./data/invoice_partitioned\n",
    "\n",
    "## Data is successfully partitioned"
   ]
  }
 ],
 "metadata": {
  "kernelspec": {
   "display_name": "Python 3 (ipykernel)",
   "language": "python",
   "name": "python3"
  },
  "language_info": {
   "codemirror_mode": {
    "name": "ipython",
    "version": 3
   },
   "file_extension": ".py",
   "mimetype": "text/x-python",
   "name": "python",
   "nbconvert_exporter": "python",
   "pygments_lexer": "ipython3",
   "version": "3.10.12"
  }
 },
 "nbformat": 4,
 "nbformat_minor": 5
}
